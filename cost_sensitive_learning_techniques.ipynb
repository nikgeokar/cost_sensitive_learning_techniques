{
 "cells": [
  {
   "cell_type": "markdown",
   "id": "2ae1c619",
   "metadata": {},
   "source": [
    "<h1>\n",
    "<center>Cost Sensitive Learning</center>\n",
    "</h1>"
   ]
  },
  {
   "cell_type": "markdown",
   "id": "5c178b24",
   "metadata": {},
   "source": [
    "### Generals"
   ]
  },
  {
   "cell_type": "code",
   "execution_count": 1,
   "id": "3275eedd",
   "metadata": {},
   "outputs": [],
   "source": [
    "import numpy as np\n",
    "from sklearn.datasets import  fetch_openml\n",
    "from sklearn.preprocessing import OneHotEncoder, StandardScaler\n",
    "from sklearn.compose import make_column_transformer, make_column_selector\n",
    "from sklearn.model_selection import cross_validate, train_test_split\n",
    "from sklearn.metrics import confusion_matrix, classification_report\n",
    "from sklearn.ensemble import RandomForestClassifier\n",
    "from sklearn.svm import LinearSVC\n",
    "from sklearn.naive_bayes import GaussianNB\n",
    "from sklearn.calibration import CalibratedClassifierCV\n",
    "from collections import Counter\n",
    "from imblearn.under_sampling import RandomUnderSampler\n",
    "from imblearn.over_sampling import RandomOverSampler\n",
    "import matplotlib.pyplot as plt"
   ]
  },
  {
   "cell_type": "markdown",
   "id": "ecf4f242",
   "metadata": {},
   "source": [
    "<h2>\n",
    "<center>Main Functionality</center>\n",
    "</h2>"
   ]
  },
  {
   "cell_type": "markdown",
   "id": "a5ab34ed",
   "metadata": {},
   "source": [
    "### Data Preprocessing"
   ]
  },
  {
   "cell_type": "code",
   "execution_count": 2,
   "id": "9fa93203",
   "metadata": {},
   "outputs": [],
   "source": [
    "def get_preprocessed_data():\n",
    "    x, y = fetch_openml(\"credit-g\", version=1, as_frame=True, return_X_y=True)\n",
    "    one_hot_encoder = make_column_transformer((OneHotEncoder(handle_unknown='ignore'),\n",
    "                                     make_column_selector(dtype_include='category')),remainder='passthrough')\n",
    "\n",
    "    x = one_hot_encoder.fit_transform(x)\n",
    "    y = y.map({'good': 1, 'bad': 0})\n",
    "    x_train, x_test, y_train, y_test = train_test_split(x, y, test_size=0.3, random_state=0)\n",
    "    x_train,x_test = scaller(x_train,x_test)\n",
    "\n",
    "    return x_train,y_train,x_test,y_test"
   ]
  },
  {
   "cell_type": "code",
   "execution_count": 3,
   "id": "1da37a34",
   "metadata": {},
   "outputs": [],
   "source": [
    "def scaller(x_train,x_test):\n",
    "    Standar_Scaller = StandardScaler()\n",
    "    scalled_train_data= Standar_Scaller.fit_transform(x_train)\n",
    "    scalled_test_data = Standar_Scaller.transform(x_test)\n",
    "    return scalled_train_data,scalled_test_data"
   ]
  },
  {
   "cell_type": "markdown",
   "id": "03a4fb7b",
   "metadata": {},
   "source": [
    "## Minimizing Expected Cost"
   ]
  },
  {
   "cell_type": "markdown",
   "id": "c2d51786",
   "metadata": {},
   "source": [
    "<font size=\"3\">\n",
    "<h4>Aim:</h4>\n",
    "<ul>\n",
    "  <li>Apply cost-sensitive learning using the minimizing expected cost approach to three different machine learning models (Naive Bayes, Linear SVM, Random Forest).</li>\n",
    "  <li>Compare the performance of each model with and without cost-sensitive learning.</li>\n",
    "</ul>\n",
    "<h4>Steps:</h4>\n",
    "<ul>\n",
    "  <li>Define a function that takes in a list of machine learning models, training and testing data, and a cost matrix.</li>\n",
    "  <li>For each model, the function performs the following:\n",
    "    <ul>\n",
    "      <li>Trains the model on the training data without any cost minimization.</li>\n",
    "      <li>Calculates the cost of the predictions made by the model on the testing data.</li>\n",
    "      <li>Applies cost minimization using isotonic calibration and calculates the cost of the predictions made by the model on the testing data.</li>\n",
    "      <li>Stores the model, the initial cost, and the cost after cost minimization in a dictionary and appends it to a list of results.</li>\n",
    "    </ul>\n",
    "  </li>\n",
    "  <li>Returns the list of results for each model.</li>\n",
    "</ul>\n",
    "</font>"
   ]
  },
  {
   "cell_type": "code",
   "execution_count": 4,
   "id": "9b2a2773",
   "metadata": {},
   "outputs": [],
   "source": [
    "def apply_minimizing_expected_cost(models,x_train,y_train,x_test,y_test,cost_m):\n",
    "    results = []\n",
    "    for clf_model in models:\n",
    "        print ('\\n\\n\\nExperiments with {}'.format(clf_model))\n",
    "        clf = clf_model\n",
    "        print(\"No cost minimization\")\n",
    "        model = clf.fit(x_train, y_train)\n",
    "        y_pred = model.predict(x_test)\n",
    "        print(classification_report(y_test, y_pred))\n",
    "        conf_m = confusion_matrix(y_test, y_pred).T \n",
    "        print('Cost Matrix:\\n ',conf_m)\n",
    "        cost = np.sum(conf_m * cost_m)\n",
    "        print('Caclulated cost: ',cost)\n",
    "\n",
    "        print(\"\\nCost minimization with isotonic calibration\")\n",
    "        cc = CalibratedClassifierCV(clf, method=\"isotonic\", cv=3)\n",
    "        model = cc.fit(x_train, y_train)\n",
    "        y_pred_prob = model.predict_proba(x_test)\n",
    "        y_pred = np.argmin(np.matmul(y_pred_prob, np.array(cost_m).T), axis=1)\n",
    "        print(classification_report(y_test, y_pred))\n",
    "        conf_m = confusion_matrix(y_test, y_pred).T\n",
    "        cost_isotonic = np.sum(conf_m * cost_m)\n",
    "        print('Cost Matrix:\\n ',conf_m)\n",
    "        print('Caclulated cost: ',cost_isotonic)\n",
    "        res_dict = {'Model':clf,'Init_cost':cost,'Method_cost':cost_isotonic}\n",
    "        results.append(res_dict)  \n",
    "    return results\n",
    "    "
   ]
  },
  {
   "cell_type": "markdown",
   "id": "dcbea3fa",
   "metadata": {},
   "source": [
    "## Under Sampling"
   ]
  },
  {
   "cell_type": "markdown",
   "id": "8f0755dc",
   "metadata": {},
   "source": [
    "<font size=\"3\">\n",
    "<h4>Aim:</h4>\n",
    "<ul>\n",
    "  <li>Apply random undersampling to handle class imbalance in three different machine learning models (Naive Bayes, Linear SVM, Random Forest).</li>\n",
    "  <li>Compare the performance of each model with and without random undersampling.</li>\n",
    "</ul>\n",
    "<h4>Steps:</h4>\n",
    "<ul>\n",
    "  <li>Define a function that takes in a list of machine learning models, training and testing data, and a cost matrix.</li>\n",
    "  <li>For each model, the function performs the following:\n",
    "    <ul>\n",
    "      <li>Trains the model on the training data without any random undersampling.</li>\n",
    "      <li>Calculates the cost of the predictions made by the model on the testing data.</li>\n",
    "      <li>Applies random undersampling to the training data to balance the classes and trains the model on the new training data.</li>\n",
    "      <li>Calculates the cost of the predictions made by the model on the testing data after random undersampling.</li>\n",
    "      <li>Stores the model, the initial cost, and the cost after random undersampling in a dictionary and appends it to a list of results.</li>\n",
    "    </ul>\n",
    "  </li>\n",
    "  <li>Returns the list of results for each model.</li>\n",
    "</ul>\n",
    "</font>"
   ]
  },
  {
   "cell_type": "code",
   "execution_count": 5,
   "id": "85345a1f",
   "metadata": {},
   "outputs": [],
   "source": [
    "def apply_undersampling(models,x_train,y_train,x_test,y_test,cost_m):\n",
    "    results = []\n",
    "    for clf_model in models:\n",
    "        print ('\\n\\n\\nExperiments with {}'.format(clf_model))\n",
    "        print(\"-Without sampling:\")\n",
    "        clf = clf_model\n",
    "        print(Counter(y_train))\n",
    "        model = clf.fit(x_train, y_train)\n",
    "        y_pred = clf.predict(x_test)\n",
    "\n",
    "        print(classification_report(y_test, y_pred))\n",
    "        conf_m = confusion_matrix(y_test, y_pred).T \n",
    "        print(' Cost Matrix:\\n ',conf_m)\n",
    "        cost = np.sum(conf_m * cost_m)\n",
    "        print(' Caclulated cost: ',cost)\n",
    "\n",
    "        print(\"\\n-With undersampling:\")\n",
    "        sampler = RandomUnderSampler(sampling_strategy={0: 214, 1: 98}, random_state=1) \n",
    "        x_rs, y_rs = sampler.fit_resample(x_train, y_train)\n",
    "        print(Counter(y_rs))\n",
    "\n",
    "        model = clf.fit(x_rs, y_rs)\n",
    "        y_pred = clf.predict(x_test)\n",
    "\n",
    "        print(classification_report(y_test, y_pred))\n",
    "        conf_m = confusion_matrix(y_test, y_pred).T\n",
    "        print('Cost Matrix:\\n ',conf_m)\n",
    "        cost_undersampling = np.sum(conf_m * cost_m)\n",
    "        print('Caclulated cost: ',cost_undersampling)\n",
    "        res_dict = {'Model':clf,'Init_cost':cost,'Method_cost':cost_undersampling}\n",
    "        results.append(res_dict) \n",
    "    return results"
   ]
  },
  {
   "cell_type": "markdown",
   "id": "4babb62e",
   "metadata": {},
   "source": [
    "## Weighting"
   ]
  },
  {
   "cell_type": "markdown",
   "id": "2bc9ed3a",
   "metadata": {},
   "source": [
    "<font size=\"3\">\n",
    "<h4>Aim:</h4>\n",
    "<ul>\n",
    "  <li>Apply cost-sensitive learning using the weighting approach to three different machine learning models (Naive Bayes, Linear SVM, Random Forest).</li>\n",
    "  <li>Compare the performance of each model with and without cost-sensitive learning.</li>\n",
    "</ul>\n",
    "<h4>Steps:</h4>\n",
    "<ul>\n",
    "  <li>Define a function that takes in a list of machine learning models, training and testing data, and a cost matrix.</li>\n",
    "  <li>For each model, the function performs the following:\n",
    "    <ul>\n",
    "      <li>Trains the model on the training data without any cost minimization.</li>\n",
    "      <li>Calculates the cost of the predictions made by the model on the testing data.</li>\n",
    "      <li>Applies cost minimization using the weighting approach and calculates the cost of the predictions made by the model on the testing data.</li>\n",
    "      <li>Stores the model, the initial cost, and the cost after cost minimization in a dictionary and appends it to a list of results.</li>\n",
    "    </ul>\n",
    "  </li>\n",
    "  <li>Returns the list of results for each model.</li>\n",
    "</ul>\n",
    "</font>"
   ]
  },
  {
   "cell_type": "code",
   "execution_count": 6,
   "id": "09e38c4d",
   "metadata": {},
   "outputs": [],
   "source": [
    "def apply_weighting(models,x_train,y_train,x_test,y_test,cost_m):\n",
    "    results = []\n",
    "    for clf_model in models:\n",
    "        print ('\\n\\n\\nExperiments with {}'.format(clf_model))\n",
    "        print(\"-Without weighting:\")\n",
    "        clf = clf_model\n",
    "        model = clf.fit(x_train, y_train)\n",
    "        y_pred = clf.predict(x_test)\n",
    "\n",
    "        print(classification_report(y_test, y_pred))\n",
    "        conf_m = confusion_matrix(y_test, y_pred).T \n",
    "        print('Cost Matrix:\\n ',conf_m)\n",
    "        cost = np.sum(conf_m * cost_m)\n",
    "        print('Caclulated cost: ',cost)\n",
    "\n",
    "        print(\"\\n-With weighting:\")\n",
    "        weights = np.zeros(y_train.shape[0])\n",
    "        weights[np.where(y_train == 1)] = cost_m[0][1];\n",
    "        weights[np.where(y_train == 0)] = cost_m[1][0];\n",
    "        model = clf.fit(x_train, y_train, weights)\n",
    "        y_pred = clf.predict(x_test)\n",
    "\n",
    "        print(classification_report(y_test, y_pred))\n",
    "        conf_m = confusion_matrix(y_test, y_pred).T\n",
    "        print('Cost Matrix:\\n ',conf_m)\n",
    "        cost_weighting = np.sum(conf_m * cost_m)\n",
    "        print('Caclulated cost: ',cost_weighting)\n",
    "        res_dict = {'Model':clf,'Init_cost':cost,'Method_cost':cost_weighting}\n",
    "        results.append(res_dict) \n",
    "    return results"
   ]
  },
  {
   "cell_type": "markdown",
   "id": "3b86d0a4",
   "metadata": {},
   "source": [
    "### Review Plots"
   ]
  },
  {
   "cell_type": "code",
   "execution_count": 7,
   "id": "b060882a",
   "metadata": {},
   "outputs": [],
   "source": [
    "def plot_each_method(methods,results,model_names):\n",
    "    for i in range(0,len(methods)):\n",
    "        init = [result['Init_cost'] for result in results[i]]\n",
    "        method = [result['Method_cost'] for result in results[i]]\n",
    "        x_axis = np.arange(len(model_names))\n",
    "        plt.bar(x_axis - 0.2, init, 0.4, label = 'Init cost')\n",
    "        plt.bar(x_axis + 0.2, method, 0.4, label = 'Cost using method')\n",
    "        plt.xticks(x_axis, model_names)\n",
    "        plt.xlabel(\"Model\")\n",
    "        plt.ylabel(\"Cost\")\n",
    "        plt.title(methods[i])\n",
    "        plt.legend()\n",
    "        plt.show()"
   ]
  },
  {
   "cell_type": "code",
   "execution_count": 8,
   "id": "e012788a",
   "metadata": {},
   "outputs": [],
   "source": [
    "def plot_across_methods(results,methods):\n",
    "    method1_init_cost = [result['Init_cost'] for result in results[0]]\n",
    "    method1_weighted_cost = [result['Method_cost'] for result in results[0]]\n",
    "    method2_weighted_cost = [result['Method_cost'] for result in results[1]]\n",
    "    method3_weighted_cost = [result['Method_cost'] for result in results[2]]\n",
    "    x_labels = model_names\n",
    "    plt.plot(x_labels, method1_init_cost, label='Init Cost', linestyle='--', marker='o')\n",
    "    plt.plot(x_labels, method1_weighted_cost, label=methods[0], linestyle='-', marker='s')\n",
    "    plt.plot(x_labels, method2_weighted_cost, label=methods[1], linestyle='-', marker='s')\n",
    "    plt.plot(x_labels, method3_weighted_cost, label=methods[2], linestyle='-', marker='s')\n",
    "    plt.xlabel('Model')\n",
    "    plt.ylabel('Cost')\n",
    "    plt.title('Cost comparison across methods')\n",
    "    plt.legend()\n",
    "    plt.show()"
   ]
  },
  {
   "cell_type": "markdown",
   "id": "c04e83b8",
   "metadata": {},
   "source": [
    "<h2>\n",
    "<center>Pipeline Execution</center>\n",
    "</h2>"
   ]
  },
  {
   "cell_type": "markdown",
   "id": "f99f7e38",
   "metadata": {},
   "source": [
    "<font size=\"3\"> \n",
    "Enviroment viarables & Data loading\n",
    "</font>"
   ]
  },
  {
   "cell_type": "code",
   "execution_count": 9,
   "id": "5b4030c5",
   "metadata": {
    "scrolled": true
   },
   "outputs": [],
   "source": [
    "cost_m = [[0, 1], \n",
    "          [5, 0]]\n",
    "\n",
    "model_names = ['Naive Bayes','LinearSVC','Random Forest']\n",
    "methods = ['Minimizing Expected Cost','Under Sampling','Weighting']\n",
    "naive_bayes = GaussianNB()\n",
    "svm = LinearSVC(max_iter=100000)\n",
    "random_forest = RandomForestClassifier()\n",
    "models = [naive_bayes,svm,random_forest]\n",
    "\n",
    "x_train,y_train,x_test,y_test = get_preprocessed_data()"
   ]
  },
  {
   "cell_type": "markdown",
   "id": "6e238e8c",
   "metadata": {},
   "source": [
    "<font size=\"3\"> \n",
    "Experiments  for minimizing expected cost method.\n",
    "</font>"
   ]
  },
  {
   "cell_type": "code",
   "execution_count": 10,
   "id": "1d8621fc",
   "metadata": {},
   "outputs": [
    {
     "name": "stdout",
     "output_type": "stream",
     "text": [
      "\n",
      "\n",
      "\n",
      "Experiments with GaussianNB()\n",
      "No cost minimization\n",
      "              precision    recall  f1-score   support\n",
      "\n",
      "           0       0.49      0.69      0.57        86\n",
      "           1       0.85      0.71      0.77       214\n",
      "\n",
      "    accuracy                           0.70       300\n",
      "   macro avg       0.67      0.70      0.67       300\n",
      "weighted avg       0.75      0.70      0.72       300\n",
      "\n",
      "Cost Matrix:\n",
      "  [[ 59  62]\n",
      " [ 27 152]]\n",
      "Caclulated cost:  197\n",
      "\n",
      "Cost minimization with isotonic calibration\n",
      "              precision    recall  f1-score   support\n",
      "\n",
      "           0       0.35      0.90      0.50        86\n",
      "           1       0.89      0.33      0.48       214\n",
      "\n",
      "    accuracy                           0.49       300\n",
      "   macro avg       0.62      0.61      0.49       300\n",
      "weighted avg       0.73      0.49      0.49       300\n",
      "\n",
      "Cost Matrix:\n",
      "  [[ 77 143]\n",
      " [  9  71]]\n",
      "Caclulated cost:  188\n",
      "\n",
      "\n",
      "\n",
      "Experiments with LinearSVC(max_iter=100000)\n",
      "No cost minimization\n",
      "              precision    recall  f1-score   support\n",
      "\n",
      "           0       0.54      0.53      0.54        86\n",
      "           1       0.81      0.82      0.82       214\n",
      "\n",
      "    accuracy                           0.74       300\n",
      "   macro avg       0.68      0.68      0.68       300\n",
      "weighted avg       0.74      0.74      0.74       300\n",
      "\n",
      "Cost Matrix:\n",
      "  [[ 46  39]\n",
      " [ 40 175]]\n",
      "Caclulated cost:  239\n",
      "\n",
      "Cost minimization with isotonic calibration\n",
      "              precision    recall  f1-score   support\n",
      "\n",
      "           0       0.35      0.81      0.49        86\n",
      "           1       0.84      0.38      0.53       214\n",
      "\n",
      "    accuracy                           0.51       300\n",
      "   macro avg       0.59      0.60      0.51       300\n",
      "weighted avg       0.70      0.51      0.51       300\n",
      "\n",
      "Cost Matrix:\n",
      "  [[ 70 132]\n",
      " [ 16  82]]\n",
      "Caclulated cost:  212\n",
      "\n",
      "\n",
      "\n",
      "Experiments with RandomForestClassifier()\n",
      "No cost minimization\n",
      "              precision    recall  f1-score   support\n",
      "\n",
      "           0       0.66      0.47      0.54        86\n",
      "           1       0.81      0.90      0.85       214\n",
      "\n",
      "    accuracy                           0.78       300\n",
      "   macro avg       0.73      0.68      0.70       300\n",
      "weighted avg       0.76      0.78      0.76       300\n",
      "\n",
      "Cost Matrix:\n",
      "  [[ 40  21]\n",
      " [ 46 193]]\n",
      "Caclulated cost:  251\n",
      "\n",
      "Cost minimization with isotonic calibration\n",
      "              precision    recall  f1-score   support\n",
      "\n",
      "           0       0.38      0.90      0.53        86\n",
      "           1       0.91      0.42      0.57       214\n",
      "\n",
      "    accuracy                           0.55       300\n",
      "   macro avg       0.64      0.66      0.55       300\n",
      "weighted avg       0.76      0.55      0.56       300\n",
      "\n",
      "Cost Matrix:\n",
      "  [[ 77 125]\n",
      " [  9  89]]\n",
      "Caclulated cost:  170\n"
     ]
    }
   ],
   "source": [
    "isotonic_results = apply_minimizing_expected_cost(models,x_train,y_train,x_test,y_test,cost_m)"
   ]
  },
  {
   "cell_type": "markdown",
   "id": "12a48bfd",
   "metadata": {},
   "source": [
    "<font size=\"3\"> \n",
    "Experiments  for undersampling method.\n",
    "</font>"
   ]
  },
  {
   "cell_type": "code",
   "execution_count": 11,
   "id": "b496f3af",
   "metadata": {},
   "outputs": [
    {
     "name": "stdout",
     "output_type": "stream",
     "text": [
      "\n",
      "\n",
      "\n",
      "Experiments with GaussianNB()\n",
      "-Without sampling:\n",
      "Counter({1: 486, 0: 214})\n",
      "              precision    recall  f1-score   support\n",
      "\n",
      "           0       0.49      0.69      0.57        86\n",
      "           1       0.85      0.71      0.77       214\n",
      "\n",
      "    accuracy                           0.70       300\n",
      "   macro avg       0.67      0.70      0.67       300\n",
      "weighted avg       0.75      0.70      0.72       300\n",
      "\n",
      " Cost Matrix:\n",
      "  [[ 59  62]\n",
      " [ 27 152]]\n",
      " Caclulated cost:  197\n",
      "\n",
      "-With undersampling:\n",
      "Counter({0: 214, 1: 98})\n",
      "              precision    recall  f1-score   support\n",
      "\n",
      "           0       0.36      0.14      0.20        86\n",
      "           1       0.72      0.90      0.80       214\n",
      "\n",
      "    accuracy                           0.68       300\n",
      "   macro avg       0.54      0.52      0.50       300\n",
      "weighted avg       0.62      0.68      0.63       300\n",
      "\n",
      "Cost Matrix:\n",
      "  [[ 12  21]\n",
      " [ 74 193]]\n",
      "Caclulated cost:  391\n",
      "\n",
      "\n",
      "\n",
      "Experiments with LinearSVC(max_iter=100000)\n",
      "-Without sampling:\n",
      "Counter({1: 486, 0: 214})\n",
      "              precision    recall  f1-score   support\n",
      "\n",
      "           0       0.54      0.53      0.54        86\n",
      "           1       0.81      0.82      0.82       214\n",
      "\n",
      "    accuracy                           0.74       300\n",
      "   macro avg       0.68      0.68      0.68       300\n",
      "weighted avg       0.74      0.74      0.74       300\n",
      "\n",
      " Cost Matrix:\n",
      "  [[ 46  39]\n",
      " [ 40 175]]\n",
      " Caclulated cost:  239\n",
      "\n",
      "-With undersampling:\n",
      "Counter({0: 214, 1: 98})\n",
      "              precision    recall  f1-score   support\n",
      "\n",
      "           0       0.41      0.85      0.56        86\n",
      "           1       0.89      0.51      0.65       214\n",
      "\n",
      "    accuracy                           0.61       300\n",
      "   macro avg       0.65      0.68      0.60       300\n",
      "weighted avg       0.76      0.61      0.62       300\n",
      "\n",
      "Cost Matrix:\n",
      "  [[ 73 104]\n",
      " [ 13 110]]\n",
      "Caclulated cost:  169\n",
      "\n",
      "\n",
      "\n",
      "Experiments with RandomForestClassifier()\n",
      "-Without sampling:\n",
      "Counter({1: 486, 0: 214})\n",
      "              precision    recall  f1-score   support\n",
      "\n",
      "           0       0.62      0.44      0.52        86\n",
      "           1       0.80      0.89      0.84       214\n",
      "\n",
      "    accuracy                           0.76       300\n",
      "   macro avg       0.71      0.67      0.68       300\n",
      "weighted avg       0.75      0.76      0.75       300\n",
      "\n",
      " Cost Matrix:\n",
      "  [[ 38  23]\n",
      " [ 48 191]]\n",
      " Caclulated cost:  263\n",
      "\n",
      "-With undersampling:\n",
      "Counter({0: 214, 1: 98})\n",
      "              precision    recall  f1-score   support\n",
      "\n",
      "           0       0.36      0.97      0.52        86\n",
      "           1       0.96      0.31      0.47       214\n",
      "\n",
      "    accuracy                           0.50       300\n",
      "   macro avg       0.66      0.64      0.50       300\n",
      "weighted avg       0.79      0.50      0.48       300\n",
      "\n",
      "Cost Matrix:\n",
      "  [[ 83 148]\n",
      " [  3  66]]\n",
      "Caclulated cost:  163\n"
     ]
    }
   ],
   "source": [
    "undersampling_results = apply_undersampling(models,x_train,y_train,x_test,y_test,cost_m)"
   ]
  },
  {
   "cell_type": "markdown",
   "id": "3c88bc37",
   "metadata": {},
   "source": [
    "<font size=\"3\"> \n",
    "Experiments  for weighting method \n",
    "</font>"
   ]
  },
  {
   "cell_type": "code",
   "execution_count": 12,
   "id": "60e9e844",
   "metadata": {},
   "outputs": [
    {
     "name": "stdout",
     "output_type": "stream",
     "text": [
      "\n",
      "\n",
      "\n",
      "Experiments with GaussianNB()\n",
      "-Without weighting:\n",
      "              precision    recall  f1-score   support\n",
      "\n",
      "           0       0.49      0.69      0.57        86\n",
      "           1       0.85      0.71      0.77       214\n",
      "\n",
      "    accuracy                           0.70       300\n",
      "   macro avg       0.67      0.70      0.67       300\n",
      "weighted avg       0.75      0.70      0.72       300\n",
      "\n",
      "Cost Matrix:\n",
      "  [[ 59  62]\n",
      " [ 27 152]]\n",
      "Caclulated cost:  197\n",
      "\n",
      "-With weighting:\n",
      "              precision    recall  f1-score   support\n",
      "\n",
      "           0       0.49      0.80      0.61        86\n",
      "           1       0.89      0.66      0.76       214\n",
      "\n",
      "    accuracy                           0.70       300\n",
      "   macro avg       0.69      0.73      0.68       300\n",
      "weighted avg       0.78      0.70      0.72       300\n",
      "\n",
      "Cost Matrix:\n",
      "  [[ 69  72]\n",
      " [ 17 142]]\n",
      "Caclulated cost:  157\n",
      "\n",
      "\n",
      "\n",
      "Experiments with LinearSVC(max_iter=100000)\n",
      "-Without weighting:\n",
      "              precision    recall  f1-score   support\n",
      "\n",
      "           0       0.54      0.53      0.54        86\n",
      "           1       0.81      0.82      0.82       214\n",
      "\n",
      "    accuracy                           0.74       300\n",
      "   macro avg       0.68      0.68      0.68       300\n",
      "weighted avg       0.74      0.74      0.74       300\n",
      "\n",
      "Cost Matrix:\n",
      "  [[ 46  39]\n",
      " [ 40 175]]\n",
      "Caclulated cost:  239\n",
      "\n",
      "-With weighting:\n",
      "              precision    recall  f1-score   support\n",
      "\n",
      "           0       0.40      0.81      0.54        86\n",
      "           1       0.87      0.52      0.65       214\n",
      "\n",
      "    accuracy                           0.60       300\n",
      "   macro avg       0.64      0.67      0.60       300\n",
      "weighted avg       0.74      0.60      0.62       300\n",
      "\n",
      "Cost Matrix:\n",
      "  [[ 70 103]\n",
      " [ 16 111]]\n",
      "Caclulated cost:  183\n",
      "\n",
      "\n",
      "\n",
      "Experiments with RandomForestClassifier()\n",
      "-Without weighting:\n",
      "              precision    recall  f1-score   support\n",
      "\n",
      "           0       0.66      0.49      0.56        86\n",
      "           1       0.81      0.90      0.85       214\n",
      "\n",
      "    accuracy                           0.78       300\n",
      "   macro avg       0.73      0.69      0.71       300\n",
      "weighted avg       0.77      0.78      0.77       300\n",
      "\n",
      "Cost Matrix:\n",
      "  [[ 42  22]\n",
      " [ 44 192]]\n",
      "Caclulated cost:  242\n",
      "\n",
      "-With weighting:\n",
      "              precision    recall  f1-score   support\n",
      "\n",
      "           0       0.69      0.49      0.57        86\n",
      "           1       0.82      0.91      0.86       214\n",
      "\n",
      "    accuracy                           0.79       300\n",
      "   macro avg       0.75      0.70      0.72       300\n",
      "weighted avg       0.78      0.79      0.78       300\n",
      "\n",
      "Cost Matrix:\n",
      "  [[ 42  19]\n",
      " [ 44 195]]\n",
      "Caclulated cost:  239\n"
     ]
    }
   ],
   "source": [
    "results_weighting = apply_weighting(models,x_train,y_train,x_test,y_test,cost_m)"
   ]
  },
  {
   "cell_type": "markdown",
   "id": "d5391260",
   "metadata": {},
   "source": [
    "## Plots for Review Purposes"
   ]
  },
  {
   "cell_type": "code",
   "execution_count": 13,
   "id": "59be3beb",
   "metadata": {
    "scrolled": true
   },
   "outputs": [
    {
     "data": {
      "image/png": "[encoded data removed]",
      "text/plain": [
       "<Figure size 640x480 with 1 Axes>"
      ]
     },
     "metadata": {},
     "output_type": "display_data"
    },
    {
     "data": {
      "image/png": "[encoded data removed]",
      "text/plain": [
       "<Figure size 640x480 with 1 Axes>"
      ]
     },
     "metadata": {},
     "output_type": "display_data"
    },
    {
     "data": {
      "image/png": "[encoded data removed]",
      "text/plain": [
       "<Figure size 640x480 with 1 Axes>"
      ]
     },
     "metadata": {},
     "output_type": "display_data"
    }
   ],
   "source": [
    "results = [isotonic_results, undersampling_results, results_weighting]\n",
    "plot_each_method(methods,results,model_names)"
   ]
  },
  {
   "cell_type": "code",
   "execution_count": 14,
   "id": "5537773b",
   "metadata": {},
   "outputs": [
    {
     "data": {
      "image/png": "[encoded data removed]",
      "text/plain": [
       "<Figure size 640x480 with 1 Axes>"
      ]
     },
     "metadata": {},
     "output_type": "display_data"
    }
   ],
   "source": [
    "plot_across_methods(results,methods)"
   ]
  },
  {
   "cell_type": "markdown",
   "id": "564a779d",
   "metadata": {},
   "source": [
    "<h2>\n",
    "<center>Report</center>\n",
    "</h2>"
   ]
  },
  {
   "cell_type": "markdown",
   "id": "ea04580c",
   "metadata": {},
   "source": [
    "<font size=\"3\">\n",
    "<div>\n",
    "  <h3>Experiment Results Analysis</h3>\n",
    "  <p>The aim of the experiment was to use three different cost-sensitive learning approaches (Minimizing the expected cost, Undersampling, Weighting) to fit three different machine learning algorithms (GaussianNB, LinearSVC, and RandomForestClassifier). The experiments were carried out by combining the different approaches with each of the algorithms, and the final cost was calculated for each experiment.</p>\n",
    "  <h4>1. Minimizing the expected cost:</h4>\n",
    "  <p>This approach shows improvements in the final cost for all three models. The most significant improvement is observed in the case of the Random Forest Classifier, with a reduction of 24.4% in the method cost. Linear SVC also shows a considerable improvement of 11.3% in the method cost, while GaussianNB has the least improvement of 4.6% in the method cost.</p>\n",
    "  <h4>2. Undersampling:</h4>\n",
    "  <p>This approach shows mixed results. While it improves the final cost of Linear SVC and RandomForestClassifier, it increases the final cost of GaussianNB. Linear SVC has the most significant improvement with a 29.3% reduction in the method cost, followed by RandomForestClassifier with a 34.4% reduction in the method cost. However, GaussianNB has a 98.5% increase in the method cost, making this approach unsuitable for this algorithm.</p>\n",
    "  <h4>3. Weighting:</h4>\n",
    "  <p>This approach shows improvements in the final cost for GaussianNB and Linear SVC but not for RandomForestClassifier. GaussianNB has the most significant improvement of 20.3% in the method cost, while Linear SVC has a modest improvement of 3.4% in the method cost. However, RandomForestClassifier shows a 17.9% increase in the method cost, making this approach unsuitable for this algorithm.</p>\n",
    "  <h4>Overall:</h4>\n",
    "  <p>The Minimizing the expected cost approach appears to be the most effective, as it improves the final cost for all three models. The Undersampling approach may be useful for Linear SVC and RandomForestClassifier, but it may not be suitable for GaussianNB. The Weighting approach shows mixed results, with improvements for some models and not for others.</p>\n",
    "</div>\n",
    "</font>"
   ]
  },
  {
   "cell_type": "code",
   "execution_count": null,
   "id": "b95095d1",
   "metadata": {},
   "outputs": [],
   "source": []
  }
 ],
 "metadata": {
  "kernelspec": {
   "display_name": "Python 3 (ipykernel)",
   "language": "python",
   "name": "python3"
  },
  "language_info": {
   "codemirror_mode": {
    "name": "ipython",
    "version": 3
   },
   "file_extension": ".py",
   "mimetype": "text/x-python",
   "name": "python",
   "nbconvert_exporter": "python",
   "pygments_lexer": "ipython3",
   "version": "3.9.7"
  }
 },
 "nbformat": 4,
 "nbformat_minor": 5
}
